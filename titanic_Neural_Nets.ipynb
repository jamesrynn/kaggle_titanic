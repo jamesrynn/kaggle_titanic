{
 "cells": [
  {
   "cell_type": "markdown",
   "metadata": {},
   "source": [
    "# Titanic: Machine Learning from Disaster - Neural Nets\n",
    "\n",
    "\n",
    "## 1. Load Packages and Data.\n",
    "\n",
    "Load packages."
   ]
  },
  {
   "cell_type": "code",
   "execution_count": 10,
   "metadata": {},
   "outputs": [],
   "source": [
    "import numpy as np\n",
    "import pandas as pd\n",
    "import os\n",
    "import seaborn as sns\n",
    "from pprint import pprint\n",
    "import matplotlib.pyplot as plt\n",
    "%matplotlib inline\n",
    "from keras.models import Sequential\n",
    "from keras.layers import Dense"
   ]
  },
  {
   "cell_type": "markdown",
   "metadata": {},
   "source": [
    "Load (cleaned) data."
   ]
  },
  {
   "cell_type": "code",
   "execution_count": 11,
   "metadata": {},
   "outputs": [],
   "source": [
    "train = pd.read_csv('./data/train_clean.csv')\n",
    "test = pd.read_csv('./data/test_clean.csv')"
   ]
  },
  {
   "cell_type": "markdown",
   "metadata": {},
   "source": [
    "## 2. Define the keras Model\n",
    "\n",
    "Define the keras model."
   ]
  },
  {
   "cell_type": "code",
   "execution_count": 49,
   "metadata": {},
   "outputs": [],
   "source": [
    "model = Sequential()\n",
    "\n",
    "\n",
    "layers = [train.shape[1]-1, 40, 20, 30, 5]\n",
    "\n",
    "\n",
    "# Input layer and first hidden layer.\n",
    "model.add(Dense(layers[1], input_dim=layers[0], activation='relu'))\n",
    "\n",
    "\n",
    "# Hidden layers.\n",
    "for n in range(2,len(layers)):\n",
    "    model.add(Dense(layers[n], activation='relu'))\n",
    "\n",
    "    \n",
    "# Output layer, single neuron.\n",
    "model.add(Dense(1, activation='sigmoid'))\n",
    "\n",
    "\n",
    "model.compile(loss='binary_crossentropy', optimizer='adam', metrics=['accuracy'])"
   ]
  },
  {
   "cell_type": "markdown",
   "metadata": {},
   "source": [
    "Define training data and target values."
   ]
  },
  {
   "cell_type": "code",
   "execution_count": 50,
   "metadata": {},
   "outputs": [],
   "source": [
    "X_train = train.iloc[:,1:]\n",
    "y_train = train.iloc[:,0]"
   ]
  },
  {
   "cell_type": "markdown",
   "metadata": {},
   "source": [
    "## 3. Train the keras Model"
   ]
  },
  {
   "cell_type": "code",
   "execution_count": 51,
   "metadata": {},
   "outputs": [
    {
     "name": "stdout",
     "output_type": "stream",
     "text": [
      "Epoch 1/150\n",
      "891/891 [==============================] - 0s 235us/step - loss: 0.7127 - accuracy: 0.6263\n",
      "Epoch 2/150\n",
      "891/891 [==============================] - 0s 70us/step - loss: 0.5761 - accuracy: 0.7104\n",
      "Epoch 3/150\n",
      "891/891 [==============================] - 0s 61us/step - loss: 0.5505 - accuracy: 0.7452\n",
      "Epoch 4/150\n",
      "891/891 [==============================] - 0s 59us/step - loss: 0.5309 - accuracy: 0.7385\n",
      "Epoch 5/150\n",
      "891/891 [==============================] - 0s 56us/step - loss: 0.5127 - accuracy: 0.7464\n",
      "Epoch 6/150\n",
      "891/891 [==============================] - 0s 57us/step - loss: 0.4767 - accuracy: 0.7778\n",
      "Epoch 7/150\n",
      "891/891 [==============================] - 0s 55us/step - loss: 0.4623 - accuracy: 0.7991\n",
      "Epoch 8/150\n",
      "891/891 [==============================] - 0s 55us/step - loss: 0.4450 - accuracy: 0.8126\n",
      "Epoch 9/150\n",
      "891/891 [==============================] - 0s 53us/step - loss: 0.4186 - accuracy: 0.8227\n",
      "Epoch 10/150\n",
      "891/891 [==============================] - 0s 57us/step - loss: 0.4142 - accuracy: 0.8260\n",
      "Epoch 11/150\n",
      "891/891 [==============================] - 0s 58us/step - loss: 0.4042 - accuracy: 0.8227\n",
      "Epoch 12/150\n",
      "891/891 [==============================] - 0s 56us/step - loss: 0.3948 - accuracy: 0.8395\n",
      "Epoch 13/150\n",
      "891/891 [==============================] - 0s 56us/step - loss: 0.3877 - accuracy: 0.8418\n",
      "Epoch 14/150\n",
      "891/891 [==============================] - 0s 57us/step - loss: 0.3964 - accuracy: 0.8418\n",
      "Epoch 15/150\n",
      "891/891 [==============================] - 0s 58us/step - loss: 0.3991 - accuracy: 0.8350\n",
      "Epoch 16/150\n",
      "891/891 [==============================] - 0s 55us/step - loss: 0.3706 - accuracy: 0.8563\n",
      "Epoch 17/150\n",
      "891/891 [==============================] - 0s 55us/step - loss: 0.3850 - accuracy: 0.8485\n",
      "Epoch 18/150\n",
      "891/891 [==============================] - 0s 58us/step - loss: 0.3818 - accuracy: 0.8361\n",
      "Epoch 19/150\n",
      "891/891 [==============================] - 0s 64us/step - loss: 0.3771 - accuracy: 0.8474\n",
      "Epoch 20/150\n",
      "891/891 [==============================] - 0s 70us/step - loss: 0.3646 - accuracy: 0.8552\n",
      "Epoch 21/150\n",
      "891/891 [==============================] - 0s 65us/step - loss: 0.3853 - accuracy: 0.8440\n",
      "Epoch 22/150\n",
      "891/891 [==============================] - 0s 58us/step - loss: 0.3826 - accuracy: 0.8384\n",
      "Epoch 23/150\n",
      "891/891 [==============================] - 0s 55us/step - loss: 0.3513 - accuracy: 0.8541\n",
      "Epoch 24/150\n",
      "891/891 [==============================] - 0s 55us/step - loss: 0.3575 - accuracy: 0.8664\n",
      "Epoch 25/150\n",
      "891/891 [==============================] - 0s 54us/step - loss: 0.3673 - accuracy: 0.8507\n",
      "Epoch 26/150\n",
      "891/891 [==============================] - 0s 55us/step - loss: 0.3560 - accuracy: 0.8440\n",
      "Epoch 27/150\n",
      "891/891 [==============================] - 0s 59us/step - loss: 0.3604 - accuracy: 0.8496\n",
      "Epoch 28/150\n",
      "891/891 [==============================] - 0s 68us/step - loss: 0.3487 - accuracy: 0.8541\n",
      "Epoch 29/150\n",
      "891/891 [==============================] - 0s 71us/step - loss: 0.3478 - accuracy: 0.8563\n",
      "Epoch 30/150\n",
      "891/891 [==============================] - 0s 64us/step - loss: 0.3461 - accuracy: 0.8597\n",
      "Epoch 31/150\n",
      "891/891 [==============================] - 0s 58us/step - loss: 0.3461 - accuracy: 0.8642\n",
      "Epoch 32/150\n",
      "891/891 [==============================] - 0s 56us/step - loss: 0.3420 - accuracy: 0.8608\n",
      "Epoch 33/150\n",
      "891/891 [==============================] - 0s 63us/step - loss: 0.3471 - accuracy: 0.8575\n",
      "Epoch 34/150\n",
      "891/891 [==============================] - 0s 75us/step - loss: 0.3338 - accuracy: 0.8608\n",
      "Epoch 35/150\n",
      "891/891 [==============================] - 0s 75us/step - loss: 0.3447 - accuracy: 0.8541\n",
      "Epoch 36/150\n",
      "891/891 [==============================] - 0s 74us/step - loss: 0.3353 - accuracy: 0.8620\n",
      "Epoch 37/150\n",
      "891/891 [==============================] - 0s 69us/step - loss: 0.3318 - accuracy: 0.8664\n",
      "Epoch 38/150\n",
      "891/891 [==============================] - 0s 59us/step - loss: 0.3359 - accuracy: 0.8608\n",
      "Epoch 39/150\n",
      "891/891 [==============================] - 0s 64us/step - loss: 0.3229 - accuracy: 0.8653\n",
      "Epoch 40/150\n",
      "891/891 [==============================] - 0s 56us/step - loss: 0.3188 - accuracy: 0.8732\n",
      "Epoch 41/150\n",
      "891/891 [==============================] - 0s 57us/step - loss: 0.3240 - accuracy: 0.8676\n",
      "Epoch 42/150\n",
      "891/891 [==============================] - 0s 58us/step - loss: 0.3291 - accuracy: 0.8631\n",
      "Epoch 43/150\n",
      "891/891 [==============================] - 0s 69us/step - loss: 0.3201 - accuracy: 0.8687\n",
      "Epoch 44/150\n",
      "891/891 [==============================] - 0s 68us/step - loss: 0.3221 - accuracy: 0.8698\n",
      "Epoch 45/150\n",
      "891/891 [==============================] - 0s 70us/step - loss: 0.3157 - accuracy: 0.8754\n",
      "Epoch 46/150\n",
      "891/891 [==============================] - 0s 68us/step - loss: 0.3114 - accuracy: 0.8810\n",
      "Epoch 47/150\n",
      "891/891 [==============================] - 0s 69us/step - loss: 0.3085 - accuracy: 0.8709\n",
      "Epoch 48/150\n",
      "891/891 [==============================] - 0s 70us/step - loss: 0.3120 - accuracy: 0.8687\n",
      "Epoch 49/150\n",
      "891/891 [==============================] - 0s 78us/step - loss: 0.3323 - accuracy: 0.8597\n",
      "Epoch 50/150\n",
      "891/891 [==============================] - 0s 74us/step - loss: 0.3177 - accuracy: 0.8732\n",
      "Epoch 51/150\n",
      "891/891 [==============================] - 0s 74us/step - loss: 0.3103 - accuracy: 0.8676\n",
      "Epoch 52/150\n",
      "891/891 [==============================] - 0s 65us/step - loss: 0.3254 - accuracy: 0.8664\n",
      "Epoch 53/150\n",
      "891/891 [==============================] - 0s 67us/step - loss: 0.3121 - accuracy: 0.8743\n",
      "Epoch 54/150\n",
      "891/891 [==============================] - 0s 56us/step - loss: 0.3006 - accuracy: 0.8866\n",
      "Epoch 55/150\n",
      "891/891 [==============================] - 0s 57us/step - loss: 0.3114 - accuracy: 0.8698\n",
      "Epoch 56/150\n",
      "891/891 [==============================] - 0s 54us/step - loss: 0.3053 - accuracy: 0.8653\n",
      "Epoch 57/150\n",
      "891/891 [==============================] - 0s 55us/step - loss: 0.3122 - accuracy: 0.8664\n",
      "Epoch 58/150\n",
      "891/891 [==============================] - 0s 55us/step - loss: 0.3210 - accuracy: 0.8765\n",
      "Epoch 59/150\n",
      "891/891 [==============================] - 0s 56us/step - loss: 0.2990 - accuracy: 0.8765\n",
      "Epoch 60/150\n",
      "891/891 [==============================] - 0s 56us/step - loss: 0.2970 - accuracy: 0.8822\n",
      "Epoch 61/150\n",
      "891/891 [==============================] - 0s 55us/step - loss: 0.2924 - accuracy: 0.8788\n",
      "Epoch 62/150\n",
      "891/891 [==============================] - 0s 54us/step - loss: 0.2927 - accuracy: 0.8799\n",
      "Epoch 63/150\n",
      "891/891 [==============================] - 0s 55us/step - loss: 0.2981 - accuracy: 0.8788\n",
      "Epoch 64/150\n",
      "891/891 [==============================] - 0s 57us/step - loss: 0.3005 - accuracy: 0.8810\n",
      "Epoch 65/150\n",
      "891/891 [==============================] - 0s 54us/step - loss: 0.2989 - accuracy: 0.8732\n",
      "Epoch 66/150\n",
      "891/891 [==============================] - 0s 58us/step - loss: 0.2841 - accuracy: 0.8855\n",
      "Epoch 67/150\n",
      "891/891 [==============================] - 0s 60us/step - loss: 0.2915 - accuracy: 0.8822\n",
      "Epoch 68/150\n",
      "891/891 [==============================] - 0s 68us/step - loss: 0.3029 - accuracy: 0.8743\n",
      "Epoch 69/150\n",
      "891/891 [==============================] - 0s 68us/step - loss: 0.2981 - accuracy: 0.8822\n",
      "Epoch 70/150\n",
      "891/891 [==============================] - 0s 55us/step - loss: 0.2998 - accuracy: 0.8822\n",
      "Epoch 71/150\n",
      "891/891 [==============================] - 0s 55us/step - loss: 0.2868 - accuracy: 0.8833\n",
      "Epoch 72/150\n",
      "891/891 [==============================] - 0s 57us/step - loss: 0.2877 - accuracy: 0.8822\n",
      "Epoch 73/150\n",
      "891/891 [==============================] - 0s 64us/step - loss: 0.2919 - accuracy: 0.8754\n",
      "Epoch 74/150\n",
      "891/891 [==============================] - 0s 72us/step - loss: 0.2827 - accuracy: 0.8855\n",
      "Epoch 75/150\n",
      "891/891 [==============================] - 0s 72us/step - loss: 0.2981 - accuracy: 0.8754\n",
      "Epoch 76/150\n",
      "891/891 [==============================] - 0s 69us/step - loss: 0.2963 - accuracy: 0.8777\n",
      "Epoch 77/150\n",
      "891/891 [==============================] - 0s 62us/step - loss: 0.2835 - accuracy: 0.8889\n",
      "Epoch 78/150\n",
      "891/891 [==============================] - 0s 69us/step - loss: 0.2835 - accuracy: 0.8788\n",
      "Epoch 79/150\n",
      "891/891 [==============================] - 0s 66us/step - loss: 0.2740 - accuracy: 0.8945\n",
      "Epoch 80/150\n"
     ]
    },
    {
     "name": "stdout",
     "output_type": "stream",
     "text": [
      "891/891 [==============================] - 0s 66us/step - loss: 0.2878 - accuracy: 0.8754\n",
      "Epoch 81/150\n",
      "891/891 [==============================] - 0s 67us/step - loss: 0.2881 - accuracy: 0.8889\n",
      "Epoch 82/150\n",
      "891/891 [==============================] - 0s 62us/step - loss: 0.2722 - accuracy: 0.8866\n",
      "Epoch 83/150\n",
      "891/891 [==============================] - 0s 72us/step - loss: 0.2747 - accuracy: 0.8855\n",
      "Epoch 84/150\n",
      "891/891 [==============================] - 0s 74us/step - loss: 0.2631 - accuracy: 0.8979\n",
      "Epoch 85/150\n",
      "891/891 [==============================] - 0s 79us/step - loss: 0.2650 - accuracy: 0.8956\n",
      "Epoch 86/150\n",
      "891/891 [==============================] - 0s 73us/step - loss: 0.2719 - accuracy: 0.8810\n",
      "Epoch 87/150\n",
      "891/891 [==============================] - 0s 60us/step - loss: 0.2745 - accuracy: 0.8934\n",
      "Epoch 88/150\n",
      "891/891 [==============================] - 0s 56us/step - loss: 0.2772 - accuracy: 0.8923\n",
      "Epoch 89/150\n",
      "891/891 [==============================] - 0s 54us/step - loss: 0.2784 - accuracy: 0.8911\n",
      "Epoch 90/150\n",
      "891/891 [==============================] - 0s 54us/step - loss: 0.2703 - accuracy: 0.8866\n",
      "Epoch 91/150\n",
      "891/891 [==============================] - 0s 53us/step - loss: 0.2769 - accuracy: 0.8900\n",
      "Epoch 92/150\n",
      "891/891 [==============================] - 0s 53us/step - loss: 0.2730 - accuracy: 0.8900\n",
      "Epoch 93/150\n",
      "891/891 [==============================] - 0s 54us/step - loss: 0.2551 - accuracy: 0.8990\n",
      "Epoch 94/150\n",
      "891/891 [==============================] - 0s 57us/step - loss: 0.2553 - accuracy: 0.9012\n",
      "Epoch 95/150\n",
      "891/891 [==============================] - 0s 74us/step - loss: 0.2593 - accuracy: 0.8967\n",
      "Epoch 96/150\n",
      "891/891 [==============================] - 0s 74us/step - loss: 0.2532 - accuracy: 0.9046\n",
      "Epoch 97/150\n",
      "891/891 [==============================] - 0s 74us/step - loss: 0.2551 - accuracy: 0.8945\n",
      "Epoch 98/150\n",
      "891/891 [==============================] - 0s 73us/step - loss: 0.2447 - accuracy: 0.9080\n",
      "Epoch 99/150\n",
      "891/891 [==============================] - 0s 57us/step - loss: 0.3043 - accuracy: 0.8754\n",
      "Epoch 100/150\n",
      "891/891 [==============================] - 0s 61us/step - loss: 0.2980 - accuracy: 0.8810\n",
      "Epoch 101/150\n",
      "891/891 [==============================] - 0s 54us/step - loss: 0.2616 - accuracy: 0.8956\n",
      "Epoch 102/150\n",
      "891/891 [==============================] - 0s 56us/step - loss: 0.2504 - accuracy: 0.9046\n",
      "Epoch 103/150\n",
      "891/891 [==============================] - 0s 54us/step - loss: 0.2463 - accuracy: 0.9001\n",
      "Epoch 104/150\n",
      "891/891 [==============================] - 0s 60us/step - loss: 0.2495 - accuracy: 0.9001\n",
      "Epoch 105/150\n",
      "891/891 [==============================] - 0s 73us/step - loss: 0.2646 - accuracy: 0.8866\n",
      "Epoch 106/150\n",
      "891/891 [==============================] - 0s 77us/step - loss: 0.2496 - accuracy: 0.9046\n",
      "Epoch 107/150\n",
      "891/891 [==============================] - 0s 88us/step - loss: 0.2435 - accuracy: 0.9035\n",
      "Epoch 108/150\n",
      "891/891 [==============================] - 0s 81us/step - loss: 0.2354 - accuracy: 0.9080\n",
      "Epoch 109/150\n",
      "891/891 [==============================] - 0s 72us/step - loss: 0.2418 - accuracy: 0.9001\n",
      "Epoch 110/150\n",
      "891/891 [==============================] - 0s 71us/step - loss: 0.2366 - accuracy: 0.9102\n",
      "Epoch 111/150\n",
      "891/891 [==============================] - 0s 64us/step - loss: 0.2351 - accuracy: 0.9113\n",
      "Epoch 112/150\n",
      "891/891 [==============================] - 0s 65us/step - loss: 0.2504 - accuracy: 0.8967\n",
      "Epoch 113/150\n",
      "891/891 [==============================] - 0s 71us/step - loss: 0.2576 - accuracy: 0.8911\n",
      "Epoch 114/150\n",
      "891/891 [==============================] - 0s 78us/step - loss: 0.2457 - accuracy: 0.9057\n",
      "Epoch 115/150\n",
      "891/891 [==============================] - 0s 86us/step - loss: 0.2572 - accuracy: 0.9035\n",
      "Epoch 116/150\n",
      "891/891 [==============================] - 0s 82us/step - loss: 0.2290 - accuracy: 0.9136\n",
      "Epoch 117/150\n",
      "891/891 [==============================] - 0s 62us/step - loss: 0.2390 - accuracy: 0.9102\n",
      "Epoch 118/150\n",
      "891/891 [==============================] - 0s 61us/step - loss: 0.2354 - accuracy: 0.9012\n",
      "Epoch 119/150\n",
      "891/891 [==============================] - 0s 55us/step - loss: 0.2361 - accuracy: 0.9102\n",
      "Epoch 120/150\n",
      "891/891 [==============================] - 0s 55us/step - loss: 0.2442 - accuracy: 0.9035\n",
      "Epoch 121/150\n",
      "891/891 [==============================] - 0s 54us/step - loss: 0.2406 - accuracy: 0.9068\n",
      "Epoch 122/150\n",
      "891/891 [==============================] - 0s 55us/step - loss: 0.2444 - accuracy: 0.9046\n",
      "Epoch 123/150\n",
      "891/891 [==============================] - 0s 56us/step - loss: 0.2368 - accuracy: 0.9136\n",
      "Epoch 124/150\n",
      "891/891 [==============================] - 0s 55us/step - loss: 0.2266 - accuracy: 0.9147\n",
      "Epoch 125/150\n",
      "891/891 [==============================] - 0s 56us/step - loss: 0.2307 - accuracy: 0.9147\n",
      "Epoch 126/150\n",
      "891/891 [==============================] - 0s 54us/step - loss: 0.2434 - accuracy: 0.9012\n",
      "Epoch 127/150\n",
      "891/891 [==============================] - 0s 55us/step - loss: 0.2270 - accuracy: 0.9113\n",
      "Epoch 128/150\n",
      "891/891 [==============================] - 0s 56us/step - loss: 0.2335 - accuracy: 0.9136\n",
      "Epoch 129/150\n",
      "891/891 [==============================] - 0s 61us/step - loss: 0.2372 - accuracy: 0.9001\n",
      "Epoch 130/150\n",
      "891/891 [==============================] - 0s 62us/step - loss: 0.2396 - accuracy: 0.9068\n",
      "Epoch 131/150\n",
      "891/891 [==============================] - 0s 58us/step - loss: 0.2178 - accuracy: 0.9169\n",
      "Epoch 132/150\n",
      "891/891 [==============================] - 0s 57us/step - loss: 0.2151 - accuracy: 0.9203\n",
      "Epoch 133/150\n",
      "891/891 [==============================] - 0s 64us/step - loss: 0.2189 - accuracy: 0.9192\n",
      "Epoch 134/150\n",
      "891/891 [==============================] - 0s 61us/step - loss: 0.2240 - accuracy: 0.9147\n",
      "Epoch 135/150\n",
      "891/891 [==============================] - 0s 54us/step - loss: 0.2175 - accuracy: 0.9158\n",
      "Epoch 136/150\n",
      "891/891 [==============================] - 0s 55us/step - loss: 0.2167 - accuracy: 0.9181\n",
      "Epoch 137/150\n",
      "891/891 [==============================] - 0s 54us/step - loss: 0.2129 - accuracy: 0.9181\n",
      "Epoch 138/150\n",
      "891/891 [==============================] - 0s 54us/step - loss: 0.2119 - accuracy: 0.9203\n",
      "Epoch 139/150\n",
      "891/891 [==============================] - 0s 55us/step - loss: 0.2154 - accuracy: 0.9181\n",
      "Epoch 140/150\n",
      "891/891 [==============================] - 0s 57us/step - loss: 0.2217 - accuracy: 0.9125\n",
      "Epoch 141/150\n",
      "891/891 [==============================] - 0s 55us/step - loss: 0.2188 - accuracy: 0.9192\n",
      "Epoch 142/150\n",
      "891/891 [==============================] - 0s 55us/step - loss: 0.2079 - accuracy: 0.9136\n",
      "Epoch 143/150\n",
      "891/891 [==============================] - 0s 64us/step - loss: 0.2108 - accuracy: 0.9147\n",
      "Epoch 144/150\n",
      "891/891 [==============================] - 0s 56us/step - loss: 0.2104 - accuracy: 0.9091\n",
      "Epoch 145/150\n",
      "891/891 [==============================] - 0s 57us/step - loss: 0.2122 - accuracy: 0.9214\n",
      "Epoch 146/150\n",
      "891/891 [==============================] - 0s 56us/step - loss: 0.2147 - accuracy: 0.9226\n",
      "Epoch 147/150\n",
      "891/891 [==============================] - 0s 56us/step - loss: 0.2220 - accuracy: 0.9158\n",
      "Epoch 148/150\n",
      "891/891 [==============================] - 0s 54us/step - loss: 0.2272 - accuracy: 0.9125\n",
      "Epoch 149/150\n",
      "891/891 [==============================] - 0s 55us/step - loss: 0.2088 - accuracy: 0.9158\n",
      "Epoch 150/150\n",
      "891/891 [==============================] - 0s 56us/step - loss: 0.2052 - accuracy: 0.9226\n"
     ]
    },
    {
     "data": {
      "text/plain": [
       "<keras.callbacks.callbacks.History at 0x10fe84910>"
      ]
     },
     "execution_count": 51,
     "metadata": {},
     "output_type": "execute_result"
    }
   ],
   "source": [
    "model.fit(X_train, y_train, epochs=150, batch_size=20)"
   ]
  },
  {
   "cell_type": "markdown",
   "metadata": {},
   "source": [
    "Check accuracy of the model."
   ]
  },
  {
   "cell_type": "code",
   "execution_count": 52,
   "metadata": {},
   "outputs": [
    {
     "name": "stdout",
     "output_type": "stream",
     "text": [
      "891/891 [==============================] - 0s 44us/step\n",
      "Accuracy: 92.03\n"
     ]
    }
   ],
   "source": [
    "_, accuracy = model.evaluate(X_train, y_train)\n",
    "print('Accuracy: %.2f' % (accuracy*100))"
   ]
  },
  {
   "cell_type": "markdown",
   "metadata": {},
   "source": [
    "## 4. Predictions\n",
    "\n"
   ]
  },
  {
   "cell_type": "code",
   "execution_count": 53,
   "metadata": {},
   "outputs": [
    {
     "name": "stdout",
     "output_type": "stream",
     "text": [
      "[0, 0, 0, 0, 1, 0, 0, 1, 1, 0, 0, 0, 1, 0, 1, 1, 1, 0, 0, 1, 0, 0, 1, 0, 1, 0, 1, 1, 0, 0, 0, 0, 1, 0, 0, 0, 0, 0, 0, 0, 0, 1, 0, 1, 1, 0, 0, 0, 1, 1, 0, 0, 1, 1, 0, 0, 0, 0, 0, 1, 0, 1, 0, 1, 0, 1, 0, 0, 0, 0, 0, 0, 1, 1, 1, 0, 0, 1, 1, 0, 0, 0, 0, 0, 0, 0, 1, 0, 1, 0, 0, 0, 1, 0, 0, 0, 1, 0, 0, 0, 1, 0, 0, 0, 0, 0, 0, 0, 0, 0, 0, 1, 1, 1, 1, 0, 0, 0, 0, 1, 1, 0, 1, 0, 0, 0, 0, 0, 0, 0, 0, 1, 0, 0, 0, 0, 0, 0, 0, 0, 0, 1, 0, 0, 1, 0, 1, 0, 1, 0, 1, 0, 0, 0, 0, 1, 1, 0, 0, 1, 0, 0, 1, 0, 1, 1, 0, 0, 1, 0, 1, 1, 1, 0, 0, 1, 1, 0, 1, 1, 0, 0, 1, 0, 1, 0, 1, 0, 0, 0, 0, 0, 0, 1, 0, 0, 1, 0, 0, 1, 0, 0, 0, 1, 0, 1, 1, 0, 1, 0, 0, 0, 0, 1, 1, 1, 0, 0, 1, 0, 1, 0, 1, 0, 1, 1, 0, 0, 0, 0, 0, 1, 0, 0, 0, 0, 1, 0, 1, 1, 1, 1, 1, 0, 0, 0, 1, 0, 1, 0, 0, 0, 0, 0, 0, 0, 0, 0, 1, 0, 0, 1, 0, 0, 1, 0, 0, 0, 0, 0, 1, 0, 1, 0, 0, 1, 0, 0, 1, 0, 0, 0, 1, 0, 1, 0, 0, 0, 0, 0, 0, 1, 0, 0, 0, 0, 1, 0, 0, 0, 0, 0, 0, 0, 0, 1, 0, 0, 1, 1, 0, 0, 0, 0, 1, 0, 0, 0, 0, 0, 0, 0, 0, 0, 1, 0, 0, 0, 0, 0, 1, 0, 0, 1, 0, 0, 1, 0, 0, 0, 1, 0, 0, 1, 0, 1, 0, 1, 1, 1, 1, 0, 0, 0, 0, 0, 1, 0, 0, 1, 0, 1, 1, 0, 1, 0, 0, 0, 1, 1, 0, 1, 0, 0, 1, 0, 0, 0, 0, 0, 0, 0, 1, 0, 0, 1, 1, 0, 0, 0, 1, 1, 0, 0, 0, 1, 0, 1, 0, 0, 1, 0, 1, 0, 1, 1, 0, 1, 1, 1, 0, 0, 0, 0, 1, 0, 0, 1]\n"
     ]
    }
   ],
   "source": [
    "X_test = test.iloc[:,:]\n",
    "#X_test.head()\n",
    "\n",
    "\n",
    "y_predict = model.predict_classes(X_test).astype(int)\n",
    "y_predict = [round(x[0]) for x in y_predict]\n",
    "\n",
    "#y_predict = model.predict_classes(X_test).astype(int)\n",
    "\n",
    "print(y_predict)"
   ]
  },
  {
   "cell_type": "code",
   "execution_count": 54,
   "metadata": {},
   "outputs": [
    {
     "data": {
      "text/plain": [
       "0       892\n",
       "1       893\n",
       "2       894\n",
       "3       895\n",
       "4       896\n",
       "       ... \n",
       "413    1305\n",
       "414    1306\n",
       "415    1307\n",
       "416    1308\n",
       "417    1309\n",
       "Name: PassengerId, Length: 418, dtype: int64"
      ]
     },
     "execution_count": 54,
     "metadata": {},
     "output_type": "execute_result"
    }
   ],
   "source": [
    "test_old = pd.read_csv('./data/test.csv')\n",
    "\n",
    "test_old['PassengerId']"
   ]
  },
  {
   "cell_type": "code",
   "execution_count": 55,
   "metadata": {},
   "outputs": [],
   "source": [
    "output = pd.DataFrame({'PassengerId': test_old['PassengerId'], 'Survived': y_predict})\n",
    "output.to_csv('./submissions/NN_first_try.csv', sep=\",\", index = False)"
   ]
  },
  {
   "cell_type": "code",
   "execution_count": null,
   "metadata": {},
   "outputs": [],
   "source": []
  },
  {
   "cell_type": "code",
   "execution_count": null,
   "metadata": {},
   "outputs": [],
   "source": []
  },
  {
   "cell_type": "code",
   "execution_count": null,
   "metadata": {},
   "outputs": [],
   "source": []
  },
  {
   "cell_type": "code",
   "execution_count": null,
   "metadata": {},
   "outputs": [],
   "source": []
  },
  {
   "cell_type": "code",
   "execution_count": null,
   "metadata": {},
   "outputs": [],
   "source": []
  },
  {
   "cell_type": "code",
   "execution_count": null,
   "metadata": {},
   "outputs": [],
   "source": []
  }
 ],
 "metadata": {
  "kernelspec": {
   "display_name": "Python 3",
   "language": "python",
   "name": "python3"
  },
  "language_info": {
   "codemirror_mode": {
    "name": "ipython",
    "version": 3
   },
   "file_extension": ".py",
   "mimetype": "text/x-python",
   "name": "python",
   "nbconvert_exporter": "python",
   "pygments_lexer": "ipython3",
   "version": "3.7.4"
  }
 },
 "nbformat": 4,
 "nbformat_minor": 2
}
